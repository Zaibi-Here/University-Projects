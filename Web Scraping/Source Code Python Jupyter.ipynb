{
  "cells": [
    {
      "cell_type": "code",
      "execution_count": null,
      "id": "66e4dd55-944d-420e-835e-e97196b2c2d3",
      "metadata": {
        "id": "66e4dd55-944d-420e-835e-e97196b2c2d3"
      },
      "outputs": [],
      "source": [
        "# pip install requests beautifulsoup4 pandas\n",
        "# install the Libraries"
      ]
    },
    {
      "cell_type": "code",
      "execution_count": null,
      "id": "9c95908c-9133-4a58-917b-45e4e863374b",
      "metadata": {
        "id": "9c95908c-9133-4a58-917b-45e4e863374b"
      },
      "outputs": [],
      "source": [
        "import requests"
      ]
    },
    {
      "cell_type": "code",
      "execution_count": null,
      "id": "2f2e64ee-cdee-4b83-8798-edf0a8cfd3d0",
      "metadata": {
        "id": "2f2e64ee-cdee-4b83-8798-edf0a8cfd3d0"
      },
      "outputs": [],
      "source": [
        "from bs4 import BeautifulSoup"
      ]
    },
    {
      "cell_type": "code",
      "execution_count": null,
      "id": "9ce0b0de-fbdc-4053-a261-b60fe9a0cb6b",
      "metadata": {
        "id": "9ce0b0de-fbdc-4053-a261-b60fe9a0cb6b"
      },
      "outputs": [],
      "source": [
        "response = requests.get(\"https://uoc.edu.pk/electronicseng.html\")"
      ]
    },
    {
      "cell_type": "code",
      "execution_count": null,
      "id": "9f155bae-d070-4e0e-a703-83ace501a70f",
      "metadata": {
        "id": "9f155bae-d070-4e0e-a703-83ace501a70f",
        "outputId": "03729ed1-85b0-4dc2-c4e4-52c8c457f327"
      },
      "outputs": [
        {
          "name": "stdout",
          "output_type": "stream",
          "text": [
            "<Response [200]>\n"
          ]
        }
      ],
      "source": [
        "print(response)"
      ]
    },
    {
      "cell_type": "code",
      "execution_count": null,
      "id": "76fe881f-e00f-4ac8-a940-09eb0d87b35f",
      "metadata": {
        "id": "76fe881f-e00f-4ac8-a940-09eb0d87b35f"
      },
      "outputs": [],
      "source": [
        "soup = BeautifulSoup(response.content)"
      ]
    },
    {
      "cell_type": "code",
      "execution_count": null,
      "id": "7902a908-a910-427f-8587-1d7b4f180b10",
      "metadata": {
        "id": "7902a908-a910-427f-8587-1d7b4f180b10"
      },
      "outputs": [],
      "source": [
        "print (soup)"
      ]
    },
    {
      "cell_type": "code",
      "execution_count": null,
      "id": "f65b2ae7-7ca2-4fee-bf42-91569261dcdb",
      "metadata": {
        "id": "f65b2ae7-7ca2-4fee-bf42-91569261dcdb",
        "outputId": "568edfe5-d4eb-480d-de14-07c2cf09dd5d"
      },
      "outputs": [
        {
          "name": "stdout",
          "output_type": "stream",
          "text": [
            "Downloaded: mohsin.jpg\n",
            "Downloaded: asim_quddus.jpg\n",
            "Downloaded: tariq.jpg\n",
            "Downloaded: qasim_ali.jpg\n",
            "Downloaded: Engr. Safia Bibi.jpg\n",
            "Downloaded: Engr.Athar Baig.jpg\n",
            "Downloaded: Engr. illahi jan shah.jpeg\n",
            "Downloaded: Engr.Aneeqa Fakhar.jpg\n",
            "Downloaded: Engr. Qamar Ud din.jpeg\n",
            "All images were downloaded\n"
          ]
        }
      ],
      "source": [
        "#To Download the Images\n",
        "\n",
        "#url of page\n",
        "url = 'https://uoc.edu.pk/electronicseng.html'\n",
        "\n",
        "# Get request to web page\n",
        "response = requests.get(url)\n",
        "soup = BeautifulSoup(response.text, 'html.parser')\n",
        "\n",
        "# my local dir path to save\n",
        "local_folder = r'C:\\Users\\Zaibi\\Desktop\\Task06'\n",
        "if not os.path.exists(local_folder):\n",
        "    os.makedirs(local_folder)\n",
        "\n",
        "# check images folder to save images\n",
        "image_folder = os.path.join(local_folder, 'faculty_images')\n",
        "if not os.path.exists(image_folder):\n",
        "    os.makedirs(image_folder)\n",
        "\n",
        "# Find all image tags\n",
        "images = soup.find_all('img')\n",
        "\n",
        "# loop all images\n",
        "for img in images:\n",
        "    img_src = img.get('src')  # get image URL\n",
        "    if img_src and 'faculties/electronics' in img_src:\n",
        "        # Form the full URL for the image\n",
        "        full_img_url = 'https://uoc.edu.pk/' + img_src\n",
        "\n",
        "        # get image name from URL\n",
        "        img_name = os.path.basename(img_src)\n",
        "\n",
        "        # Save images in faculty_images folder\n",
        "        img_path = os.path.join(image_folder, img_name)\n",
        "\n",
        "        # Download and save the image\n",
        "        img_data = requests.get(full_img_url).content\n",
        "        with open(img_path, 'wb') as img_file:\n",
        "            img_file.write(img_data)\n",
        "\n",
        "        print(f\"Downloaded: {img_name}\")\n",
        "\n",
        "print(\"All images were downloaded\")"
      ]
    },
    {
      "cell_type": "code",
      "execution_count": null,
      "id": "2692319e-d84b-41ec-9c50-665de1e64f38",
      "metadata": {
        "id": "2692319e-d84b-41ec-9c50-665de1e64f38",
        "outputId": "193c50bf-0913-46ab-eccc-3021583e428c"
      },
      "outputs": [
        {
          "name": "stdout",
          "output_type": "stream",
          "text": [
            "CSV File Saved in PC\n"
          ]
        }
      ],
      "source": [
        "# Just save the Data of Faculty\n",
        "\n",
        "# create lists to store data\n",
        "names = []\n",
        "designations = []\n",
        "emails = []\n",
        "\n",
        "# find all faculty sections\n",
        "faculty_sections = soup.find_all('div', class_='tg-facultyname')\n",
        "\n",
        "#for loop\n",
        "for section in faculty_sections:\n",
        "    # Scrape Name\n",
        "    name_tag = section.find('h4')  # Find the <h4> tag\n",
        "    if name_tag:\n",
        "        name_b_tag = name_tag.find('b')  # Find <b> inside <h4>\n",
        "        name = name_b_tag.text.strip()\n",
        "\n",
        "\n",
        "    # Scrape Designation\n",
        "    designation_tag = section.find_next('p')  # Find the <p> tag in the next <div>\n",
        "    if designation_tag:\n",
        "        designation_b_tag = designation_tag.find('b')  # Find <b> inside <p>\n",
        "        designation = designation_b_tag.text.strip()\n",
        "\n",
        "\n",
        "    # Scrape Email\n",
        "    email_tag = section.find_next('span')  # Find the next <span> tag (email)\n",
        "    email = email_tag.text.strip()\n",
        "\n",
        "    # Append the data to lists\n",
        "    names.append(name)\n",
        "    designations.append(designation)\n",
        "    emails.append(email)\n",
        "\n",
        "# Save scraped data into a CSV file\n",
        "faculty_data = pd.DataFrame({\n",
        "    'Name': names,\n",
        "    'Designation': designations,\n",
        "    'Email': emails\n",
        "})\n",
        "\n",
        "# Saving to the local folder\n",
        "csv_file_path = os.path.join(local_folder, 'faculty_data.csv')\n",
        "faculty_data.to_csv(csv_file_path, index=False)\n",
        "\n",
        "print(\"CSV File Saved in PC\")"
      ]
    },
    {
      "cell_type": "code",
      "execution_count": null,
      "id": "319c11ab-d32d-4bd9-b1c3-0959bbb9321a",
      "metadata": {
        "id": "319c11ab-d32d-4bd9-b1c3-0959bbb9321a",
        "outputId": "e92d080a-d44b-45da-d48b-774118d0f12e"
      },
      "outputs": [
        {
          "name": "stdout",
          "output_type": "stream",
          "text": [
            "University Info File Saved in PC\n"
          ]
        }
      ],
      "source": [
        "# extarct University Name\n",
        "university_name = soup.find('title').text.split('-')[0].strip()  # get the title title\n",
        "\n",
        "# path to save in local pc\n",
        "university_info_path = r'C:\\Users\\Zaibi\\Desktop\\Task06\\university_info.txt'\n",
        "\n",
        "# write in a file txt\n",
        "with open(university_info_path, 'w') as f:\n",
        "    f.write(f\"University Name: {university_name}\\n\")\n",
        "    f.write(f\"URL of the Faculty Webpage: {url}\\n\")\n",
        "\n",
        "print(\"University Info File Saved in PC\")"
      ]
    },
    {
      "cell_type": "code",
      "execution_count": null,
      "id": "c233e435-ab7c-4a62-89dd-97e64db200f0",
      "metadata": {
        "id": "c233e435-ab7c-4a62-89dd-97e64db200f0"
      },
      "outputs": [],
      "source": []
    }
  ],
  "metadata": {
    "kernelspec": {
      "display_name": "Python 3 (ipykernel)",
      "language": "python",
      "name": "python3"
    },
    "language_info": {
      "codemirror_mode": {
        "name": "ipython",
        "version": 3
      },
      "file_extension": ".py",
      "mimetype": "text/x-python",
      "name": "python",
      "nbconvert_exporter": "python",
      "pygments_lexer": "ipython3",
      "version": "3.12.5"
    },
    "colab": {
      "provenance": []
    }
  },
  "nbformat": 4,
  "nbformat_minor": 5
}